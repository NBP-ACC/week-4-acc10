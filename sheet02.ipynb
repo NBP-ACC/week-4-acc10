{
 "cells": [
  {
   "cell_type": "markdown",
   "metadata": {},
   "source": [
    "Osnabrück University - A&C: Computational Cognition (Summer Term 2019)"
   ]
  },
  {
   "cell_type": "markdown",
   "metadata": {},
   "source": [
    "# Exercise Sheet 02: Basic statistics"
   ]
  },
  {
   "cell_type": "markdown",
   "metadata": {},
   "source": [
    "## Introduction\n",
    "\n",
    "This week's sheet should be solved and handed in at 14:00 at **Tuesday, April 30, 2019**. If you need help (and Google and other resources were not enough), feel free to contact your tutors. Please push your results to your Github group folder.\n",
    "\n",
    "In this exercise sheet you will have to work with ```pandas``` and ```seaborn```. ```pandas``` is one of the most preferred and widely used tools in data processing. What’s cool about ```pandas``` is that it takes data (like a CSV or TSV file, or a SQL database) and creates a Python object with rows and columns called 'data frame' that looks very similar to tables in a statistical software (think Excel or SPSS for example). ```pandas``` makes data processing a lot easier in comparison to working with lists and/or dictionaries through for-loops or list comprehension.  \n",
    "```seaborn``` is a library for making plots. It is based on ```matplotlib``` but offers more functions speicialized for statistical visualization. Also most people agree that ```seaborn``` looks more legit.\n",
    "\n",
    "Don't forget that you we will also give **2 points** for nice coding style!"
   ]
  },
  {
   "cell_type": "markdown",
   "metadata": {},
   "source": [
    "## Assignment 0: Peer review for sheet 01 [3 pts]"
   ]
  },
  {
   "cell_type": "markdown",
   "metadata": {},
   "source": [
    "Beginning this week you will have to make a peer review of the other groups' solutions. Each group reviews the solutions of two other groups and give points according to the given point distribution considering the correctness of the solution. For this reviews the tutors will give you up to 3 points each week.\n",
    "\n",
    "| * |Group 1|Group 2|Group 3|Group 4|Group 5|Group 6|Group 7|Group 8|Group 9|Group 10|Group 11|\n",
    "| ------- | ----- | ----- | ----- | ----- | ----- | ----- | ----- | ----- | ----- | ------ | ------ |\n",
    "| check solutions of group: | 10, 7 | 4, 9  | 1, 4  | 11, 1 | 8, 11 | 5, 3  | 9, 10 | 6, 5  | 3, 2  | 2, 8   | 7, 6   |"
   ]
  },
  {
   "cell_type": "markdown",
   "metadata": {},
   "source": [
    "You should open an issue in repositories of groups you have to check. The title of the issue should be your group name (e.g.\"Group 1\"). Comments on what was good and bad, how much points they get etc.  \n",
    "Refer to https://guides.github.com/features/issues/ to learn more about issues."
   ]
  },
  {
   "cell_type": "markdown",
   "metadata": {},
   "source": [
    "## Assignment 1: Dataframes [4 pts]"
   ]
  },
  {
   "cell_type": "code",
   "execution_count": 17,
   "metadata": {},
   "outputs": [],
   "source": [
    "# import libraries\n",
    "import os\n",
    "import numpy as np\n",
    "import pandas as pd\n",
    "import matplotlib.pyplot as plt\n",
    "import seaborn as sns\n",
    "from matplotlib.ticker import FormatStrFormatter\n",
    "sns.set()"
   ]
  },
  {
   "cell_type": "markdown",
   "metadata": {},
   "source": [
    "```matplotlib``` and ```seaborn``` should already be installed in your environment. If not please run:\n",
    "```sh\n",
    "pip install seaborn\n",
    "```"
   ]
  },
  {
   "cell_type": "markdown",
   "metadata": {},
   "source": [
    "### a) Importing a csv file [2 pts]"
   ]
  },
  {
   "cell_type": "markdown",
   "metadata": {},
   "source": [
    "Import the csv files of all subjects into one dataframe. Make sure that each row has a unique index. You might want to take a look at what ***pandas.concat*** does.<br>\n",
    "Extra fun: Display the output of the dataframe using the ***pandas.set_option*** function to display the data in a well-arranged way. Play a little bit around with the settings that you are allowed to change.<br>\n",
    "Save ```df_concatenated```.\n"
   ]
  },
  {
   "cell_type": "code",
   "execution_count": 8,
   "metadata": {},
   "outputs": [
    {
     "name": "stdout",
     "output_type": "stream",
     "text": [
      "Directory already exists.\n"
     ]
    },
    {
     "data": {
      "text/html": [
       "<div>\n",
       "<style scoped>\n",
       "    .dataframe tbody tr th:only-of-type {\n",
       "        vertical-align: middle;\n",
       "    }\n",
       "\n",
       "    .dataframe tbody tr th {\n",
       "        vertical-align: top;\n",
       "    }\n",
       "\n",
       "    .dataframe thead th {\n",
       "        text-align: right;\n",
       "    }\n",
       "</style>\n",
       "<table border=\"1\" class=\"dataframe\">\n",
       "  <thead>\n",
       "    <tr style=\"text-align: right;\">\n",
       "      <th></th>\n",
       "      <th>SubjectID</th>\n",
       "      <th>StimulusType</th>\n",
       "      <th>response</th>\n",
       "      <th>RT</th>\n",
       "    </tr>\n",
       "  </thead>\n",
       "  <tbody>\n",
       "    <tr>\n",
       "      <th>0</th>\n",
       "      <td>10001</td>\n",
       "      <td>1</td>\n",
       "      <td>1</td>\n",
       "      <td>673</td>\n",
       "    </tr>\n",
       "    <tr>\n",
       "      <th>1</th>\n",
       "      <td>10001</td>\n",
       "      <td>1</td>\n",
       "      <td>1</td>\n",
       "      <td>483</td>\n",
       "    </tr>\n",
       "    <tr>\n",
       "      <th>2</th>\n",
       "      <td>10001</td>\n",
       "      <td>1</td>\n",
       "      <td>1</td>\n",
       "      <td>321</td>\n",
       "    </tr>\n",
       "    <tr>\n",
       "      <th>3</th>\n",
       "      <td>10001</td>\n",
       "      <td>1</td>\n",
       "      <td>1</td>\n",
       "      <td>612</td>\n",
       "    </tr>\n",
       "    <tr>\n",
       "      <th>4</th>\n",
       "      <td>10001</td>\n",
       "      <td>1</td>\n",
       "      <td>1</td>\n",
       "      <td>304</td>\n",
       "    </tr>\n",
       "    <tr>\n",
       "      <th>5</th>\n",
       "      <td>10001</td>\n",
       "      <td>1</td>\n",
       "      <td>1</td>\n",
       "      <td>304</td>\n",
       "    </tr>\n",
       "    <tr>\n",
       "      <th>6</th>\n",
       "      <td>1</td>\n",
       "      <td>1</td>\n",
       "      <td>1</td>\n",
       "      <td>355</td>\n",
       "    </tr>\n",
       "    <tr>\n",
       "      <th>7</th>\n",
       "      <td>1</td>\n",
       "      <td>1</td>\n",
       "      <td>1</td>\n",
       "      <td>369</td>\n",
       "    </tr>\n",
       "    <tr>\n",
       "      <th>8</th>\n",
       "      <td>1</td>\n",
       "      <td>1</td>\n",
       "      <td>1</td>\n",
       "      <td>402</td>\n",
       "    </tr>\n",
       "    <tr>\n",
       "      <th>9</th>\n",
       "      <td>1</td>\n",
       "      <td>1</td>\n",
       "      <td>1</td>\n",
       "      <td>355</td>\n",
       "    </tr>\n",
       "    <tr>\n",
       "      <th>10</th>\n",
       "      <td>1</td>\n",
       "      <td>1</td>\n",
       "      <td>1</td>\n",
       "      <td>320</td>\n",
       "    </tr>\n",
       "    <tr>\n",
       "      <th>11</th>\n",
       "      <td>1</td>\n",
       "      <td>1</td>\n",
       "      <td>1</td>\n",
       "      <td>338</td>\n",
       "    </tr>\n",
       "    <tr>\n",
       "      <th>12</th>\n",
       "      <td>1</td>\n",
       "      <td>0</td>\n",
       "      <td>0</td>\n",
       "      <td>0</td>\n",
       "    </tr>\n",
       "    <tr>\n",
       "      <th>13</th>\n",
       "      <td>1</td>\n",
       "      <td>1</td>\n",
       "      <td>1</td>\n",
       "      <td>161</td>\n",
       "    </tr>\n",
       "    <tr>\n",
       "      <th>14</th>\n",
       "      <td>1</td>\n",
       "      <td>1</td>\n",
       "      <td>1</td>\n",
       "      <td>257</td>\n",
       "    </tr>\n",
       "    <tr>\n",
       "      <th>...</th>\n",
       "      <td>...</td>\n",
       "      <td>...</td>\n",
       "      <td>...</td>\n",
       "      <td>...</td>\n",
       "    </tr>\n",
       "    <tr>\n",
       "      <th>785</th>\n",
       "      <td>2</td>\n",
       "      <td>1</td>\n",
       "      <td>1</td>\n",
       "      <td>381</td>\n",
       "    </tr>\n",
       "    <tr>\n",
       "      <th>786</th>\n",
       "      <td>2</td>\n",
       "      <td>1</td>\n",
       "      <td>1</td>\n",
       "      <td>347</td>\n",
       "    </tr>\n",
       "    <tr>\n",
       "      <th>787</th>\n",
       "      <td>2</td>\n",
       "      <td>0</td>\n",
       "      <td>0</td>\n",
       "      <td>0</td>\n",
       "    </tr>\n",
       "    <tr>\n",
       "      <th>788</th>\n",
       "      <td>2</td>\n",
       "      <td>1</td>\n",
       "      <td>1</td>\n",
       "      <td>385</td>\n",
       "    </tr>\n",
       "    <tr>\n",
       "      <th>789</th>\n",
       "      <td>2</td>\n",
       "      <td>1</td>\n",
       "      <td>1</td>\n",
       "      <td>449</td>\n",
       "    </tr>\n",
       "    <tr>\n",
       "      <th>790</th>\n",
       "      <td>2</td>\n",
       "      <td>1</td>\n",
       "      <td>1</td>\n",
       "      <td>332</td>\n",
       "    </tr>\n",
       "    <tr>\n",
       "      <th>791</th>\n",
       "      <td>2</td>\n",
       "      <td>1</td>\n",
       "      <td>1</td>\n",
       "      <td>366</td>\n",
       "    </tr>\n",
       "    <tr>\n",
       "      <th>792</th>\n",
       "      <td>2</td>\n",
       "      <td>1</td>\n",
       "      <td>1</td>\n",
       "      <td>316</td>\n",
       "    </tr>\n",
       "    <tr>\n",
       "      <th>793</th>\n",
       "      <td>2</td>\n",
       "      <td>1</td>\n",
       "      <td>1</td>\n",
       "      <td>300</td>\n",
       "    </tr>\n",
       "    <tr>\n",
       "      <th>794</th>\n",
       "      <td>2</td>\n",
       "      <td>1</td>\n",
       "      <td>1</td>\n",
       "      <td>383</td>\n",
       "    </tr>\n",
       "    <tr>\n",
       "      <th>795</th>\n",
       "      <td>2</td>\n",
       "      <td>1</td>\n",
       "      <td>1</td>\n",
       "      <td>349</td>\n",
       "    </tr>\n",
       "    <tr>\n",
       "      <th>796</th>\n",
       "      <td>2</td>\n",
       "      <td>1</td>\n",
       "      <td>1</td>\n",
       "      <td>382</td>\n",
       "    </tr>\n",
       "    <tr>\n",
       "      <th>797</th>\n",
       "      <td>2</td>\n",
       "      <td>1</td>\n",
       "      <td>1</td>\n",
       "      <td>365</td>\n",
       "    </tr>\n",
       "    <tr>\n",
       "      <th>798</th>\n",
       "      <td>2</td>\n",
       "      <td>1</td>\n",
       "      <td>1</td>\n",
       "      <td>348</td>\n",
       "    </tr>\n",
       "    <tr>\n",
       "      <th>799</th>\n",
       "      <td>2</td>\n",
       "      <td>1</td>\n",
       "      <td>1</td>\n",
       "      <td>348</td>\n",
       "    </tr>\n",
       "  </tbody>\n",
       "</table>\n",
       "<p>800 rows × 4 columns</p>\n",
       "</div>"
      ],
      "text/plain": [
       "    SubjectID  StimulusType  response   RT\n",
       "0       10001             1         1  673\n",
       "1       10001             1         1  483\n",
       "2       10001             1         1  321\n",
       "3       10001             1         1  612\n",
       "4       10001             1         1  304\n",
       "5       10001             1         1  304\n",
       "6           1             1         1  355\n",
       "7           1             1         1  369\n",
       "8           1             1         1  402\n",
       "9           1             1         1  355\n",
       "10          1             1         1  320\n",
       "11          1             1         1  338\n",
       "12          1             0         0    0\n",
       "13          1             1         1  161\n",
       "14          1             1         1  257\n",
       "..        ...           ...       ...  ...\n",
       "785         2             1         1  381\n",
       "786         2             1         1  347\n",
       "787         2             0         0    0\n",
       "788         2             1         1  385\n",
       "789         2             1         1  449\n",
       "790         2             1         1  332\n",
       "791         2             1         1  366\n",
       "792         2             1         1  316\n",
       "793         2             1         1  300\n",
       "794         2             1         1  383\n",
       "795         2             1         1  349\n",
       "796         2             1         1  382\n",
       "797         2             1         1  365\n",
       "798         2             1         1  348\n",
       "799         2             1         1  348\n",
       "\n",
       "[800 rows x 4 columns]"
      ]
     },
     "execution_count": 8,
     "metadata": {},
     "output_type": "execute_result"
    }
   ],
   "source": [
    "import glob\n",
    "import os\n",
    "\n",
    "PATH = os.getcwd()+ \"/Data\"\n",
    "all_files = glob.glob(os.path.join(PATH, \"*.csv\"))     # advisable to use os.path.join as this makes concatenation OS independent\n",
    "\n",
    "# http://www.oipapio.com/question-88634    \n",
    "df_from_each_file = (pd.read_csv(f) for f in all_files)\n",
    "df_concatenated   = pd.concat(df_from_each_file,axis=0, ignore_index=True)\n",
    "\n",
    "# use pd.set_option here to display in a nice way\n",
    "# only display 30 rows\n",
    "pd.set_option(\"display.max_rows\", 30)\n",
    "# displays precision for decimal numbers\n",
    "pd.set_option(\"display.precision\", 3)\n",
    "\n",
    "DATAPATH = os.getcwd() + '/Processed/data_concatenated.csv'\n",
    "\n",
    "#make a new folder\n",
    "try:\n",
    "    os.mkdir(os.getcwd() + '/Processed/')\n",
    "except OSError as err:\n",
    "    print(\"Directory already exists.\")\n",
    "\n",
    "df_concatenated.to_csv(DATAPATH,index=False)\n",
    "df_concatenated\n"
   ]
  },
  {
   "cell_type": "markdown",
   "metadata": {},
   "source": [
    "### b) Working with dataframes [2 pts]"
   ]
  },
  {
   "cell_type": "markdown",
   "metadata": {},
   "source": [
    "- Add a column called \"congruence\" to ```df_concatenated```. The column should have a value *True* if \"StimulusType\" and \"reponse\" matches. Otherwise the column should have a value *False*.\n",
    "\n",
    "- Create a new dataframe which has \"SubjectID\",\"StiumulusType\",\"RT\" and \"congruence\" as a column. For each combination of \"SubjectID\" and \"StimulusType\" (e.g. \"7001\" and \"0\") compute the average RT and congruence level.\n",
    "\n",
    "- When computing the average RT, omit all reaction times which are 0 as these will manipulate the mean.\n",
    "\n",
    "- Rename \"congruence\" as \"accuracy\" and save the dataframe as a csv file. "
   ]
  },
  {
   "cell_type": "code",
   "execution_count": 6,
   "metadata": {
    "scrolled": false
   },
   "outputs": [
    {
     "name": "stdout",
     "output_type": "stream",
     "text": [
      "                             StimulusType       RT  accuracy\n",
      "SubjectID      StimulusType                                 \n",
      "1              0                        0  287.778     0.775\n",
      "               1                        1  325.922     1.000\n",
      "2              0                        0  274.750     0.900\n",
      "               1                        1  328.931     1.000\n",
      "3              0                        0  241.667     0.850\n",
      "               1                        1  341.300     1.000\n",
      "4              0                        0  305.500     0.900\n",
      "               1                        1  343.175     1.000\n",
      "10001          1                        1  449.500     1.000\n",
      "SubjectSimon01 0                        0  274.000     0.850\n",
      "               1                        1  307.287     1.000\n",
      "SubjectSimon02 0                        0  220.333     0.850\n",
      "               1                        1  305.825     1.000\n"
     ]
    }
   ],
   "source": [
    "# adding a column of booleans to the data frame\n",
    "df_concatenated['congruence'] = np.where(df_concatenated['StimulusType']==df_concatenated['response'], \n",
    "                                          1, 0)\n",
    "# create a new dataframe with averaged data\n",
    "df_concatenated_avg=pd.DataFrame(df_concatenated, columns = ['SubjectID', 'StimulusType', 'RT', 'congruence'])\n",
    "\n",
    "#assigning a Nan value to all 0 in the RT column\n",
    "df_concatenated_avg['RT'] = df_concatenated_avg['RT'].replace(0,np.NaN)\n",
    "\n",
    "#computing the mean after grouping by subject and stimulus type for RT and congruence\n",
    "df_concatenated_avg['RT'] = df_concatenated_avg['RT'].groupby([df_concatenated_avg['SubjectID'],\n",
    "                                                df_concatenated_avg['StimulusType']]).transform('mean')\n",
    "\n",
    "df_concatenated_avg['congruence'] = df_concatenated_avg['congruence'].groupby([df_concatenated_avg['SubjectID'],\n",
    "                                                df_concatenated_avg['StimulusType']]).transform('mean')\n",
    "\n",
    "df_concatenated_avg= df_concatenated_avg.groupby([df_concatenated_avg['SubjectID'],\n",
    "                                                              df_concatenated_avg['StimulusType']]).mean()\n",
    "\n",
    "#df_concatenated_avg.reset_index()\n",
    "\n",
    "#rename congruence column as accuracy\n",
    "df_concatenated_avg.rename(columns={'congruence': 'accuracy'}, inplace=True)\n",
    "print(df_concatenated_avg)\n",
    "# save averaged dataframe\n",
    "DATAPATH = os.getcwd() + '/Processed/data_concatenated_averaged.csv'\n",
    "df_concatenated.to_csv(DATAPATH,index=False)\n",
    "\n"
   ]
  },
  {
   "cell_type": "markdown",
   "metadata": {},
   "source": [
    "## Assignment 2: Statistical plotting [6 pts]"
   ]
  },
  {
   "cell_type": "markdown",
   "metadata": {},
   "source": [
    "### a) Boxplot and Violinplot [2 pts]"
   ]
  },
  {
   "cell_type": "markdown",
   "metadata": {},
   "source": [
    "Plot the RT of each trial for all subjects as a stripplot and a boxplot on top of each other. Do the same with a striplot and a violinplot. Plot go trials as green dots and no-go trails as red dots. Reminder: don't forget to mask the data where RT=0. Make sure that the legends are informative (Don't display duplicated legends)."
   ]
  },
  {
   "cell_type": "code",
   "execution_count": 4,
   "metadata": {
    "scrolled": false
   },
   "outputs": [
    {
     "data": {
      "image/png": "[encoded data removed]",
      "text/plain": [
       "<Figure size 432x288 with 1 Axes>"
      ]
     },
     "metadata": {
      "needs_background": "light"
     },
     "output_type": "display_data"
    },
    {
     "data": {
      "image/png": "[encoded data removed]",
      "text/plain": [
       "<Figure size 432x288 with 1 Axes>"
      ]
     },
     "metadata": {
      "needs_background": "light"
     },
     "output_type": "display_data"
    }
   ],
   "source": [
    "# read data\n",
    "\n",
    "data_concat = pd.read_csv(os.getcwd() + \"/Processed/data_concatenated.csv\")\n",
    "#masking data where RT=0\n",
    "data_concat['RT'] = data_concat['RT'].replace(0,np.NaN)\n",
    "\n",
    "# create two axes\n",
    "fig, axes = plt.subplots()\n",
    "\n",
    "# first subplot with stripplot and boxplot\n",
    "axes = sns.boxplot(data = data_concat, x='StimulusType', y ='RT', color = '1')\n",
    "axes = sns.stripplot(data = data_concat, x='StimulusType', y ='RT', hue = 'StimulusType', jitter = True)\n",
    "\n",
    "\n",
    "# second subplot with stripplot and violinplot\n",
    "fig2, axes2 = plt.subplots()\n",
    "\n",
    "axes2 = sns.stripplot(data = data_concat, x='StimulusType', y ='RT', hue = 'StimulusType', jitter = True)\n",
    "axes2 = sns.violinplot(data = data_concat, x='StimulusType', y = 'RT', inner = None, color='0.9')\n",
    "\n",
    "# handling legends\n",
    "handles, _ = axes.get_legend_handles_labels()\n",
    "axes.legend(handles, ['No-Go Trial', 'Go Trial'])\n",
    "\n",
    "handles, _ = axes2.get_legend_handles_labels()\n",
    "axes2.legend(handles, ['No-Go Trial', 'Go Trial'])\n",
    "\n",
    "fig.tight_layout()\n",
    "\n"
   ]
  },
  {
   "cell_type": "markdown",
   "metadata": {},
   "source": [
    "### b) Violinplot combining all data of all groups [3 pts]"
   ]
  },
  {
   "cell_type": "markdown",
   "metadata": {},
   "source": [
    "- Make a dataframe consisting of all data across groups. You already did this in 1.a). At the end this dataframe you should have 8 * 11 * 100 rows.\n",
    "\n",
    "- Every group has used their ID convention. Make sure that every data point follows this SubjectID system: group number + \"00\" + subject number.  \n",
    "e.g) 3002 for the second subject of the third group.\n",
    "\n",
    "- Compute average RT and accuaracy for each subject in the big dataframe you just created. You already did this in 1.b). At the end this dataframe will have 8 * 11 rows.\n",
    "\n",
    "- On the first column plot average RT and accuracy for 8 subjects from your group's data. Use violinplot and split go/no-go conditions.\n",
    "\n",
    "- On the second column plot average RT and accuracy for 80 subjects from all data. Use violinplot and split go/no-go conditions.\n",
    "\n",
    "- Do you see any difference between the first column and the second column? What does this tell us about the central limit theorem (CLT) ?"
   ]
  },
  {
   "cell_type": "code",
   "execution_count": 39,
   "metadata": {},
   "outputs": [
    {
     "name": "stdout",
     "output_type": "stream",
     "text": [
      "  SubjectID  StimulusType       RT  accuracy\n",
      "0         0             0  268.700     0.875\n",
      "1         0             1  360.534     1.000\n",
      "2         1             0  245.324     0.757\n",
      "3         1             1  328.560     0.998\n",
      "4         2             0  291.556     0.810\n"
     ]
    },
    {
     "data": {
      "text/plain": [
       "<matplotlib.legend.Legend at 0x1eb94e26978>"
      ]
     },
     "execution_count": 39,
     "metadata": {},
     "output_type": "execute_result"
    },
    {
     "data": {
      "image/png": "[encoded data removed]",
      "text/plain": [
       "<Figure size 432x288 with 1 Axes>"
      ]
     },
     "metadata": {},
     "output_type": "display_data"
    },
    {
     "data": {
      "image/png": "[encoded data removed]",
      "text/plain": [
       "<Figure size 432x288 with 1 Axes>"
      ]
     },
     "metadata": {},
     "output_type": "display_data"
    }
   ],
   "source": [
    "# again create a concatenated dataframe over all (averaged) groups.\n",
    "# Don't forget to modify the Subject ID\n",
    "PATH = os.getcwd()+ \"/All Groups\"\n",
    "all_groups = glob.glob(os.path.join(PATH, \"*.csv\")) \n",
    "\n",
    "#aggregate all the csv files together\n",
    "df_from_each_file_group = (pd.read_csv(f) for f in all_groups)\n",
    "df_concatenated_groups  = pd.concat(df_from_each_file_group,axis=0, ignore_index=True)\n",
    "\n",
    "#add a colum congruence with 1 value if response and stimulus are the same 0 otherwise\n",
    "df_concatenated_groups['congruence'] = np.where(df_concatenated_groups['StimulusType']==df_concatenated_groups['response'], \n",
    "                                          1, 0)\n",
    "# create a new dataframe with averaged data\n",
    "df_concatenated_avg_groups=pd.DataFrame(df_concatenated_groups, columns = ['SubjectID', 'StimulusType', 'RT', 'congruence'])\n",
    "\n",
    "#assigning a Nan value to all 0 in the RT column\n",
    "df_concatenated_avg_groups['RT'] = df_concatenated_avg_groups['RT'].replace(0,np.NaN)\n",
    "\n",
    "#computing the mean after grouping by subject and stimulus type for RT and congruence\n",
    "df_concatenated_avg_groups['RT'] = df_concatenated_avg_groups['RT'].groupby([df_concatenated_avg_groups['SubjectID'],\n",
    "                                                df_concatenated_avg_groups['StimulusType']]).transform('mean')\n",
    "\n",
    "df_concatenated_avg_groups['congruence'] = df_concatenated_avg_groups['congruence'].groupby([df_concatenated_avg_groups['SubjectID'],\n",
    "                                                df_concatenated_avg_groups['StimulusType']]).transform('mean')\n",
    "#rename congruence column as accuracy\n",
    "df_concatenated_avg_groups.rename(columns={'congruence': 'accuracy'}, inplace=True)\n",
    "\n",
    "\n",
    "#reshaping the data frame by grouping by subject and stimulus type\n",
    "df_concatenated_avg_groups= df_concatenated_avg_groups.groupby([df_concatenated_avg_groups['SubjectID'],\n",
    "                                                                df_concatenated_avg_groups['StimulusType']],as_index=False).mean()\n",
    "\n",
    "\n",
    "print(df_concatenated_avg_groups.head())\n",
    "# save averaged dataframe\n",
    "DATAPATH = os.getcwd() + '/Processed/data_concatenated_averaged_groups.csv'\n",
    "df_concatenated.to_csv(DATAPATH,index=False)\n",
    "\n",
    "\n",
    "\n",
    "fig1, axe1 = plt.subplots(sharey=\"row\")\n",
    "\n",
    "# violin plot for your group's data\n",
    "axe1 = sns.violinplot(data = df_concatenated_avg, x = 'accuracy', y = 'RT', hue = 'StimulusType')\n",
    "\n",
    "# violin plot of all group's data\n",
    "fig2, axe2 = plt.subplots(sharey=\"row\")\n",
    "\n",
    "axe2 = sns.violinplot(data = df_concatenated_avg_groups, x = 'accuracy', y = 'RT', hue = 'StimulusType')\n",
    "\n",
    "\n",
    "\"\"\"axe2.xaxis.set_major_locator(plt.MaxNLocator(5))\n",
    "axe2.xaxis.set_major_formatter(FormatStrFormatter('%.2f'))\n",
    "\n",
    "#axe2.tick_params(length = 3)\"\"\"\n",
    "\n",
    "# rounding of float number for better readibility\n",
    "labels = [item.get_text() for item in axe1.get_xticklabels()]\n",
    "axe1.set_xticklabels([str(round(float(label), 3)) for label in labels])\n",
    "# set amount of values for readibility\n",
    "axe1.xaxis.set_major_locator(plt.MaxNLocator(4))\n",
    "\n",
    "# rounding of float number for better readibility\n",
    "labels = [item.get_text() for item in axe2.get_xticklabels()]\n",
    "axe2.set_xticklabels([str(round(float(label), 3)) for label in labels])\n",
    "# set amount of values for readibility\n",
    "axe2.xaxis.set_major_locator(plt.MaxNLocator(6))\n",
    "\n",
    "\n",
    "handles, _ = axe1.get_legend_handles_labels()\n",
    "axe1.legend(handles, ['No-Go Trial', 'Go Trial'], loc ='upper left')\n",
    "\n",
    "handles, _ = axe2.get_legend_handles_labels()\n",
    "axe2.legend(handles, ['No-Go Trial', 'Go Trial'], loc ='lower left')\n",
    "\n"
   ]
  },
  {
   "cell_type": "markdown",
   "metadata": {},
   "source": [
    "***As we increase the sample size our plot starts to shape for like a normal distribution.\n",
    "The overall spread of the distribution decreases***"
   ]
  },
  {
   "cell_type": "markdown",
   "metadata": {},
   "source": []
  },
  {
   "cell_type": "markdown",
   "metadata": {},
   "source": [
    "### c) Scatterplot [1 pts]"
   ]
  },
  {
   "cell_type": "markdown",
   "metadata": {},
   "source": [
    "Make a scatterplot comparing RT and accuracy. Do you see some correlation?"
   ]
  },
  {
   "cell_type": "code",
   "execution_count": null,
   "metadata": {},
   "outputs": [],
   "source": [
    "figs, axes = plt.subplots(sharey=\"row\")\n",
    "\n",
    "axes = sns.scatterplot(data = df_concatenated_avg_groups, x = 'accuracy', y = 'RT', hue = 'StimulusType')\n",
    "handles, _ = axes.get_legend_handles_labels()\n",
    "axes.legend(handles, ['No-Go Trial', 'Go Trial'])"
   ]
  },
  {
   "cell_type": "markdown",
   "metadata": {},
   "source": [
    "A positive correlation can be seen from the plot."
   ]
  },
  {
   "cell_type": "code",
   "execution_count": null,
   "metadata": {},
   "outputs": [],
   "source": []
  }
 ],
 "metadata": {
  "kernelspec": {
   "display_name": "Python 3",
   "language": "python",
   "name": "python3"
  },
  "language_info": {
   "codemirror_mode": {
    "name": "ipython",
    "version": 3
   },
   "file_extension": ".py",
   "mimetype": "text/x-python",
   "name": "python",
   "nbconvert_exporter": "python",
   "pygments_lexer": "ipython3",
   "version": "3.6.7"
  }
 },
 "nbformat": 4,
 "nbformat_minor": 2
}
