{
 "cells": [
  {
   "cell_type": "markdown",
   "metadata": {},
   "source": [
    "Osnabrück University - A&C: Computational Cognition (Summer Term 2019)"
   ]
  },
  {
   "cell_type": "markdown",
   "metadata": {},
   "source": [
    "# Exercise Sheet 02: Basic statistics"
   ]
  },
  {
   "cell_type": "markdown",
   "metadata": {},
   "source": [
    "## Introduction\n",
    "\n",
    "This week's sheet should be solved and handed in at 14:00 at **Tuesday, April 30, 2019**. If you need help (and Google and other resources were not enough), feel free to contact your tutors. Please push your results to your Github group folder.\n",
    "\n",
    "In this exercise sheet you will have to work with ```pandas``` and ```seaborn```. ```pandas``` is one of the most preferred and widely used tools in data processing. What’s cool about ```pandas``` is that it takes data (like a CSV or TSV file, or a SQL database) and creates a Python object with rows and columns called 'data frame' that looks very similar to tables in a statistical software (think Excel or SPSS for example). ```pandas``` makes data processing a lot easier in comparison to working with lists and/or dictionaries through for-loops or list comprehension.  \n",
    "```seaborn``` is a library for making plots. It is based on ```matplotlib``` but offers more functions speicialized for statistical visualization. Also most people agree that ```seaborn``` looks more legit.\n",
    "\n",
    "Don't forget that you we will also give **2 points** for nice coding style!"
   ]
  },
  {
   "cell_type": "markdown",
   "metadata": {},
   "source": [
    "## Assignment 0: Peer review for sheet 01 [3 pts]"
   ]
  },
  {
   "cell_type": "markdown",
   "metadata": {},
   "source": [
    "Beginning this week you will have to make a peer review of the other groups' solutions. Each group reviews the solutions of two other groups and give points according to the given point distribution considering the correctness of the solution. For this reviews the tutors will give you up to 3 points each week.\n",
    "\n",
    "| * |Group 1|Group 2|Group 3|Group 4|Group 5|Group 6|Group 7|Group 8|Group 9|Group 10|Group 11|\n",
    "| ------- | ----- | ----- | ----- | ----- | ----- | ----- | ----- | ----- | ----- | ------ | ------ |\n",
    "| check solutions of group: | 10, 7 | 4, 9  | 1, 4  | 11, 1 | 8, 11 | 5, 3  | 9, 10 | 6, 5  | 3, 2  | 2, 8   | 7, 6   |"
   ]
  },
  {
   "cell_type": "markdown",
   "metadata": {},
   "source": [
    "You should open an issue in repositories of groups you have to check. The title of the issue should be your group name (e.g.\"Group 1\"). Comments on what was good and bad, how much points they get etc.  \n",
    "Refer to https://guides.github.com/features/issues/ to learn more about issues."
   ]
  },
  {
   "cell_type": "markdown",
   "metadata": {},
   "source": [
    "## Assignment 1: Dataframes [4 pts]"
   ]
  },
  {
   "cell_type": "code",
   "execution_count": 1,
   "metadata": {},
   "outputs": [],
   "source": [
    "# import libraries\n",
    "import os\n",
    "import numpy as np\n",
    "import pandas as pd\n",
    "import matplotlib.pyplot as plt\n",
    "import seaborn as sns\n",
    "sns.set(style=\"white\")"
   ]
  },
  {
   "cell_type": "markdown",
   "metadata": {},
   "source": [
    "```matplotlib``` and ```seaborn``` should already be installed in your environment. If not please run:\n",
    "```sh\n",
    "pip install seaborn\n",
    "```"
   ]
  },
  {
   "cell_type": "markdown",
   "metadata": {},
   "source": [
    "### a) Importing a csv file [2 pts]"
   ]
  },
  {
   "cell_type": "markdown",
   "metadata": {},
   "source": [
    "Import the csv files of all subjects into one dataframe. Make sure that each row has a unique index. You might want to take a look at what ***pandas.concat*** does.<br>\n",
    "Extra fun: Display the output of the dataframe using the ***pandas.set_option*** function to display the data in a well-arranged way. Play a little bit around with the settings that you are allowed to change.<br>\n",
    "Save ```df_concatenated```.\n"
   ]
  },
  {
   "cell_type": "code",
   "execution_count": 90,
   "metadata": {},
   "outputs": [
    {
     "name": "stdout",
     "output_type": "stream",
     "text": [
      "Directory  Processed  already exists\n",
      "     SubjectID  StimulusType  response  RT \n",
      "0     1001      1             1         668\n",
      "1     1001      0             0           0\n",
      "2     1001      1             1         389\n",
      "3     1001      1             1         454\n",
      "4     1001      1             1         362\n",
      "5     1001      1             1         377\n",
      "6     1001      1             1         376\n",
      "7     1001      1             1         364\n",
      "8     1001      0             0           0\n",
      "9     1001      0             0           0\n",
      "10    1001      1             1         383\n",
      "11    1001      1             1         410\n",
      "12    1001      1             1         378\n",
      "13    1001      1             1         317\n",
      "14    1001      1             1         311\n",
      "...        ...           ...       ...  ...\n",
      "8285     5      1             1         671\n",
      "8286     5      1             1         704\n",
      "8287     5      0             0           0\n",
      "8288     5      1             1         451\n",
      "8289     5      1             1         451\n",
      "8290     5      1             1         398\n",
      "8291     5      1             1         551\n",
      "8292     5      1             1         538\n",
      "8293     5      0             0           0\n",
      "8294     5      1             1         404\n",
      "8295     5      1             1         419\n",
      "8296     5      1             1         353\n",
      "8297     5      1             1         365\n",
      "8298     5      1             1         404\n",
      "8299     5      1             1         453\n",
      "\n",
      "[8300 rows x 4 columns]\n"
     ]
    }
   ],
   "source": [
    "import glob\n",
    "import os\n",
    "\n",
    "#create path 'Processed' into working directory if non-existent\n",
    "dirName = 'Processed'\n",
    "\n",
    "# Create target Directory if don't exist\n",
    "if not os.path.exists(dirName):\n",
    "    os.mkdir(dirName)\n",
    "    print(\"Directory \" , dirName ,  \" Created \")\n",
    "else:\n",
    "    print(\"Directory \" , dirName ,  \" already exists\")\n",
    "\n",
    "PATH = os.getcwd()+ \"/Data\"\n",
    "all_files = glob.glob(os.path.join(PATH, \"*.csv\"))     # advisable to use os.path.join as this makes concatenation OS independent\n",
    "                                                       # http://www.oipapio.com/question-88634  \n",
    "    \n",
    "#create a list and append to it all the data of the csv's    \n",
    "list_ = []\n",
    "\n",
    "for file_ in all_files:\n",
    "    df = pd.read_csv(file_,index_col=None, header=0)\n",
    "    list_.append(df)\n",
    "\n",
    "#create dataframe by concatenating the list    \n",
    "df_concatenated = pd.concat(list_, axis=0, ignore_index=True)\n",
    "\n",
    "# use pd.set_option here to display in a nice way\n",
    "# only display 30 rows\n",
    "pd.set_option(\"display.max_rows\", 30)\n",
    "# displays precision for decimal numbers\n",
    "pd.set_option(\"display.precision\", 3)\n",
    "print(df_concatenated)\n",
    "\n",
    "# save concatenated dataframe\n",
    "DATAPATH = os.getcwd() + '/Processed/data_concatenated.csv'\n",
    "df_concatenated.to_csv(DATAPATH)"
   ]
  },
  {
   "cell_type": "markdown",
   "metadata": {},
   "source": [
    "### b) Working with dataframes [2 pts]"
   ]
  },
  {
   "cell_type": "markdown",
   "metadata": {},
   "source": [
    "- Add a column called \"congruence\" to ```df_concatenated```. The column should have a value *True* if \"StimulusType\" and \"reponse\" matches. Otherwise the column should have a value *False*.\n",
    "\n",
    "- Create a new dataframe which has \"SubjectID\",\"StiumulusType\",\"RT\" and \"congruence\" as a column. For each combination of \"SubjectID\" and \"StimulusType\" (e.g. \"7001\" and \"0\") compute the average RT and congruence level.\n",
    "\n",
    "- When computing the average RT, omit all reaction times which are 0 as these will manipulate the mean.\n",
    "\n",
    "- Rename \"congruence\" as \"accuracy\" and save the dataframe as a csv file. "
   ]
  },
  {
   "cell_type": "code",
   "execution_count": 89,
   "metadata": {
    "scrolled": false
   },
   "outputs": [
    {
     "name": "stdout",
     "output_type": "stream",
     "text": [
      "  SubjectID  StimulusType  RT       accuracy\n",
      "0  1001      1             408.762  True    \n",
      "1  1001      0               0.000  True    \n",
      "2  1001      1             408.762  True    \n",
      "3  1001      1             408.762  True    \n",
      "4  1001      1             408.762  True    \n"
     ]
    }
   ],
   "source": [
    "# add a column \"congruence\" with truth values according to StimulusType == response\n",
    "df_concatenated['congruence'] = np.where(df_concatenated['StimulusType'] == df_concatenated['response'],True,False)\n",
    "\n",
    "# create a new dataframe with averaged data\n",
    "df_concatenated_avg = pd.DataFrame(df_concatenated, columns = ['SubjectID', 'StimulusType', 'RT', 'congruence'])\n",
    "\n",
    "#create a working data frame that we want to manipulate\n",
    "working_frame = pd.DataFrame(df_concatenated_avg, columns = ['SubjectID', 'StimulusType', 'RT'])\n",
    "\n",
    "#replace all 0 values to NaN in order to compute mean without the 0 Value\n",
    "working_frame['RT'] = working_frame['RT'].replace(0,np.NaN)\n",
    "#group by SubjectID and StimulusType then compute the mean for each group\n",
    "working_frame['RT'] = working_frame['RT'].groupby([working_frame['SubjectID'],\n",
    "                                                   working_frame['StimulusType']]).transform('mean') \n",
    "\n",
    "\n",
    "#replace all values by their respective group means, also making sure to skip the 0s!\n",
    "df_concatenated_avg.loc[df_concatenated_avg.RT != 0, 'RT'] = working_frame['RT'].copy()\n",
    "\n",
    "#rename congruence column into accuracy\n",
    "df_concatenated_avg.rename(columns={'congruence': 'accuracy'}, inplace=True)\n",
    "\n",
    "print(df_concatenated_avg.head())\n",
    "# save averaged dataframe\n",
    "DATAPATH = os.getcwd() + '/Processed/data_concatenated_averaged.csv'\n",
    "df_concatenated_avg.to_csv(DATAPATH)\n",
    "\n"
   ]
  },
  {
   "cell_type": "markdown",
   "metadata": {},
   "source": [
    "## Assignment 2: Statistical plotting [6 pts]"
   ]
  },
  {
   "cell_type": "markdown",
   "metadata": {},
   "source": [
    "### a) Boxplot and Violinplot [2 pts]"
   ]
  },
  {
   "cell_type": "markdown",
   "metadata": {},
   "source": [
    "Plot the RT of each trial for all subjects as a stripplot and a boxplot on top of each other. Do the same with a striplot and a violinplot. Plot go trials as green dots and no-go trails as red dots. Reminder: don't forget to mask the data where RT=0. Make sure that the legends are informative (Don't display duplicated legends)."
   ]
  },
  {
   "cell_type": "code",
   "execution_count": 63,
   "metadata": {
    "scrolled": false
   },
   "outputs": [
    {
     "data": {
      "image/png": "[encoded data removed]",
      "text/plain": [
       "<Figure size 432x288 with 1 Axes>"
      ]
     },
     "metadata": {
      "needs_background": "light"
     },
     "output_type": "display_data"
    },
    {
     "data": {
      "image/png": "[encoded data removed]",
      "text/plain": [
       "<Figure size 432x288 with 1 Axes>"
      ]
     },
     "metadata": {
      "needs_background": "light"
     },
     "output_type": "display_data"
    }
   ],
   "source": [
    "\"\"\"\n",
    "masking 0's?\n",
    "\"\"\"\n",
    "# read data\n",
    "data_concat = pd.read_csv(os.getcwd() + \"/Processed/data_concatenated.csv\")\n",
    "\n",
    "# create firt plot\n",
    "fig, axes = plt.subplots(nrows=1,ncols=1)\n",
    "\n",
    "# first subplot with stripplot and boxplot\n",
    "axes = sns.boxplot(data = data_concat, x='response', y ='RT', color = '0.9')\n",
    "axes = sns.stripplot(data = data_concat, x='response', y ='RT', hue = 'StimulusType', jitter = True)\n",
    "\n",
    "\n",
    "# create second plot\n",
    "fig2, axes2 = plt.subplots(nrows=1,ncols=1)\n",
    "\n",
    "# second subplot with stripplot and violinplot\n",
    "axes2 = sns.violinplot(data = data_concat, x='response', y = 'RT', inner = None, color='0.9')\n",
    "axes2 = sns.stripplot(data = data_concat, x='response', y ='RT', hue='StimulusType', jitter =True)\n",
    "\n",
    "handles, _ = axes.get_legend_handles_labels()\n",
    "axes.legend(handles, ['No-Go Trial', 'Go Trial'])\n",
    "\n",
    "handles, _ = axes2.get_legend_handles_labels()\n",
    "axes2.legend(handles, ['No-Go Trial', 'Go Trial'])\n",
    "\n",
    "fig.tight_layout()"
   ]
  },
  {
   "cell_type": "markdown",
   "metadata": {},
   "source": [
    "# b) Violinplot combining all data of all groups [3 pts]"
   ]
  },
  {
   "cell_type": "markdown",
   "metadata": {},
   "source": [
    "- Make a dataframe consisting of all data across groups. You already did this in 1.a). At the end this dataframe you should have 8 * 11 * 100 rows.\n",
    "\n",
    "- Every group has used their ID convention. Make sure that every data point follows this SubjectID system: group number + \"00\" + subject number.  \n",
    "e.g) 3002 for the second subject of the third group.\n",
    "\n",
    "- Compute average RT and accuaracy for each subject in the big dataframe you just created. You already did this in 1.b). At the end this dataframe will have 8 * 11 rows.\n",
    "\n",
    "- On the first column plot average RT and accuracy for 8 subjects from your group's data. Use violinplot and split go/no-go conditions.\n",
    "\n",
    "- On the second column plot average RT and accuracy for 80 subjects from all data. Use violinplot and split go/no-go conditions.\n",
    "\n",
    "- Do you see any difference between the first column and the second column? What does this tell us about the central limit theorem (CLT) ?"
   ]
  },
  {
   "cell_type": "code",
   "execution_count": 70,
   "metadata": {
    "scrolled": true
   },
   "outputs": [
    {
     "name": "stdout",
     "output_type": "stream",
     "text": [
      "     SubjectID  StimulusType          RT  accuracy\n",
      "0         1001             1  408.762500      True\n",
      "1         1001             0    0.000000      True\n",
      "2         1001             1  408.762500      True\n",
      "3         1001             1  408.762500      True\n",
      "4         1001             1  408.762500      True\n",
      "5         1001             1  408.762500      True\n",
      "6         1001             1  408.762500      True\n",
      "7         1001             1  408.762500      True\n",
      "8         1001             0    0.000000      True\n",
      "9         1001             0    0.000000      True\n",
      "10        1001             1  408.762500      True\n",
      "11        1001             1  408.762500      True\n",
      "12        1001             1  408.762500      True\n",
      "13        1001             1  408.762500      True\n",
      "14        1001             1  408.762500      True\n",
      "15        1001             1  408.762500      True\n",
      "16        1001             1  408.762500      True\n",
      "17        1001             1  408.762500      True\n",
      "18        1001             0    0.000000      True\n",
      "19        1001             1  408.762500      True\n",
      "20        1001             1  408.762500      True\n",
      "21        1001             1  408.762500      True\n",
      "22        1001             1  408.762500      True\n",
      "23        1001             1  408.762500      True\n",
      "24        1001             1  408.762500      True\n",
      "25        1001             1  408.762500      True\n",
      "26        1001             1  408.762500      True\n",
      "27        1001             1  408.762500      True\n",
      "28        1001             1  408.762500      True\n",
      "29        1001             1  408.762500      True\n",
      "...        ...           ...         ...       ...\n",
      "8270         5             1  405.861345      True\n",
      "8271         5             1  405.861345      True\n",
      "8272         5             1  405.861345      True\n",
      "8273         5             1  405.861345      True\n",
      "8274         5             1  405.861345      True\n",
      "8275         5             0    0.000000      True\n",
      "8276         5             1  405.861345      True\n",
      "8277         5             0    0.000000      True\n",
      "8278         5             0    0.000000      True\n",
      "8279         5             1  405.861345      True\n",
      "8280         5             1  405.861345      True\n",
      "8281         5             1  405.861345      True\n",
      "8282         5             1  405.861345      True\n",
      "8283         5             1  405.861345      True\n",
      "8284         5             0  334.000000     False\n",
      "8285         5             1  405.861345      True\n",
      "8286         5             1  405.861345      True\n",
      "8287         5             0    0.000000      True\n",
      "8288         5             1  405.861345      True\n",
      "8289         5             1  405.861345      True\n",
      "8290         5             1  405.861345      True\n",
      "8291         5             1  405.861345      True\n",
      "8292         5             1  405.861345      True\n",
      "8293         5             0    0.000000      True\n",
      "8294         5             1  405.861345      True\n",
      "8295         5             1  405.861345      True\n",
      "8296         5             1  405.861345      True\n",
      "8297         5             1  405.861345      True\n",
      "8298         5             1  405.861345      True\n",
      "8299         5             1  405.861345      True\n",
      "\n",
      "[8300 rows x 4 columns]\n"
     ]
    },
    {
     "data": {
      "image/png": "[encoded data removed]",
      "text/plain": [
       "<Figure size 432x288 with 1 Axes>"
      ]
     },
     "metadata": {
      "needs_background": "light"
     },
     "output_type": "display_data"
    },
    {
     "data": {
      "image/png": "[encoded data removed]",
      "text/plain": [
       "<Figure size 432x288 with 1 Axes>"
      ]
     },
     "metadata": {
      "needs_background": "light"
     },
     "output_type": "display_data"
    }
   ],
   "source": [
    "# again create a concatenated dataframe over all (averaged) groups.\n",
    "# Don't forget to modify the Subject ID\n",
    "data_concat_avg  = pd.read_csv(os.getcwd() + \"/Processed/data_concatenated_averaged.csv\", index_col = [0])\n",
    "\n",
    "print(data_concat_avg)\n",
    "\n",
    "# Now it's time to plot your results\n",
    "figs, axes = plt.subplots(nrows=1, ncols=1, sharey=\"row\")\n",
    "\n",
    "# violin plot for your group's data\n",
    "axes = sns.violinplot(data = data_concat_avg.sample(n=80), x = 'accuracy', y = 'RT', hue = 'StimulusType') \n",
    "\n",
    "# second figure \n",
    "figs2, axes2 = plt.subplots(nrows=1, ncols=1, sharey=\"row\")\n",
    "\n",
    "# violin plot of all group's data\n",
    "axes2 = sns.violinplot(data = data_concat_avg.sample(n=80), x = 'accuracy', y = 'RT', hue = 'StimulusType') \n",
    "\n",
    "handles, _ = axes.get_legend_handles_labels()\n",
    "axes.legend(handles, ['No-Go Trial', 'Go Trial'])\n",
    "\n",
    "handles, _ = axes2.get_legend_handles_labels()\n",
    "axes2.legend(handles, ['No-Go Trial', 'Go Trial'])\n",
    "\n",
    "fig.tight_layout()"
   ]
  },
  {
   "cell_type": "markdown",
   "metadata": {},
   "source": [
    "Compare two datasets and relate it with CLT. Write your opinion here."
   ]
  },
  {
   "cell_type": "markdown",
   "metadata": {},
   "source": [
    "### c) Scatterplot [1 pts]"
   ]
  },
  {
   "cell_type": "markdown",
   "metadata": {},
   "source": [
    "Make a scatterplot comparing RT and accuracy. Do you see some correlation?"
   ]
  },
  {
   "cell_type": "code",
   "execution_count": 71,
   "metadata": {},
   "outputs": [
    {
     "data": {
      "text/plain": [
       "<matplotlib.legend.Legend at 0x1b22d3efdd8>"
      ]
     },
     "execution_count": 71,
     "metadata": {},
     "output_type": "execute_result"
    },
    {
     "data": {
      "image/png": "[encoded data removed]",
      "text/plain": [
       "<Figure size 432x288 with 1 Axes>"
      ]
     },
     "metadata": {
      "needs_background": "light"
     },
     "output_type": "display_data"
    }
   ],
   "source": [
    "figs, axes = plt.subplots(nrows=1, ncols=1, sharey=\"row\")\n",
    "\n",
    "axes = sns.scatterplot(data = data_concat_avg, x = 'accuracy', y = 'RT', hue = 'StimulusType')\n",
    "handles, _ = axes.get_legend_handles_labels()\n",
    "axes.legend(handles, ['No-Go Trial', 'Go Trial'])"
   ]
  },
  {
   "cell_type": "code",
   "execution_count": null,
   "metadata": {},
   "outputs": [],
   "source": []
  }
 ],
 "metadata": {
  "kernelspec": {
   "display_name": "Python 3",
   "language": "python",
   "name": "python3"
  },
  "language_info": {
   "codemirror_mode": {
    "name": "ipython",
    "version": 3
   },
   "file_extension": ".py",
   "mimetype": "text/x-python",
   "name": "python",
   "nbconvert_exporter": "python",
   "pygments_lexer": "ipython3",
   "version": "3.6.7"
  }
 },
 "nbformat": 4,
 "nbformat_minor": 2
}
